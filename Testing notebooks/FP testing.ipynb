{
 "cells": [
  {
   "cell_type": "code",
   "execution_count": null,
   "metadata": {},
   "outputs": [],
   "source": [
    "from fastf1.core import Laps\n",
    "import fastf1 as f1\n",
    "from fastf1 import plotting\n",
    "import matplotlib.pyplot as plt\n",
    "import pandas as pd\n",
    "f1.Cache.enable_cache(r\"C:\\Users\\krusa\\Documents\\GitHub\\Formula1\\Cache\")\n"
   ]
  },
  {
   "cell_type": "code",
   "execution_count": null,
   "metadata": {},
   "outputs": [],
   "source": [
    "f1.Cache.clear_cache(r\"C:\\Users\\krusa\\Documents\\GitHub\\Formula1\\Cache\")"
   ]
  },
  {
   "cell_type": "code",
   "execution_count": null,
   "metadata": {},
   "outputs": [],
   "source": [
    "Year = 2022\n",
    "GP = 10\n",
    "Type = \"Q\"\n",
    "session = f1.get_session(Year, GP, Type)\n",
    "session.load()"
   ]
  },
  {
   "cell_type": "code",
   "execution_count": null,
   "metadata": {},
   "outputs": [],
   "source": [
    "def twoDriverLapComparison(session, d1, d2):\n",
    "    d1_color = f1.plotting.driver_color(d1)\n",
    "    d2_color = f1.plotting.driver_color(d2)\n",
    "    d1_fast_lap = session.laps.pick_driver(d1).pick_fastest()\n",
    "    d2_fast_lap = session.laps.pick_driver(d2).pick_fastest()\n",
    "    d1_tel = d1_fast_lap.get_car_data().add_distance()\n",
    "    d2_tel = d2_fast_lap.get_car_data().add_distance()\n",
    "    fig = plt.figure(facecolor=\"#333333\", figsize=(10,4),dpi=100)\n",
    "    ax = fig.subplots()\n",
    "    ax.plot(d1_tel['Distance'],d1_tel['Speed'], color = d1_color, label = d1)\n",
    "    ax.plot(d2_tel['Distance'],d2_tel['Speed'], color = d2_color, label = d2)\n",
    "    ax.set_xlabel(\"Distance [m]\",color=\"White\")\n",
    "    ax.set_ylabel(\"Speed [km/h]\",color=\"White\")\n",
    "    ax.spines['bottom'].set_color(\"White\")\n",
    "    ax.spines['top'].set_color(\"White\")\n",
    "    ax.spines['left'].set_color(\"White\")\n",
    "    ax.spines['right'].set_color(\"White\")\n",
    "    ax.tick_params(axis='x', colors = \"White\")\n",
    "    ax.tick_params(axis='y', colors = \"White\")\n",
    "    plt.minorticks_on()\n",
    "    legend = plt.legend(frameon=1, labelcolor = \"White\")\n",
    "    frame = legend.get_frame()\n",
    "    frame.set_color(\"Black\")\n",
    "    frame.set_alpha(0.2)\n",
    "    \n",
    "    plt.suptitle(f\"Fastest Lap Comparison between\\n {d1} and {d2} for {session.name} in {session.event.EventName} {session.event.year}\",color=\"White\")\n",
    "    ax.set_facecolor(color = \"#262626\")\n",
    "    plt.grid(color = \"#808080\", which = \"major\")\n",
    "    plt.grid(color = \"#595959\", which = \"minor\", linestyle=\"--\")\n",
    "    return fig"
   ]
  },
  {
   "cell_type": "code",
   "execution_count": null,
   "metadata": {},
   "outputs": [],
   "source": [
    "p1 = twoDriverLapComparison(session, \"VER\",\"ALB\")\n"
   ]
  },
  {
   "cell_type": "code",
   "execution_count": null,
   "metadata": {},
   "outputs": [],
   "source": []
  }
 ],
 "metadata": {
  "kernelspec": {
   "display_name": "Python 3",
   "language": "python",
   "name": "python3"
  },
  "language_info": {
   "codemirror_mode": {
    "name": "ipython",
    "version": 3
   },
   "file_extension": ".py",
   "mimetype": "text/x-python",
   "name": "python",
   "nbconvert_exporter": "python",
   "pygments_lexer": "ipython3",
   "version": "3.10.5"
  },
  "orig_nbformat": 4
 },
 "nbformat": 4,
 "nbformat_minor": 2
}
