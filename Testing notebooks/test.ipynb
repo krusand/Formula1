{
 "cells": [
  {
   "cell_type": "code",
   "execution_count": 2,
   "metadata": {},
   "outputs": [],
   "source": [
    "import fastf1 as f1\n",
    "import fastf1.plotting\n",
    "from fastf1.core import Laps\n",
    "import matplotlib.pyplot as plt\n",
    "import pandas as pd\n",
    "from timple.timedelta import strftimedelta\n",
    "import numpy as np\n",
    "import os\n"
   ]
  },
  {
   "cell_type": "code",
   "execution_count": 3,
   "metadata": {},
   "outputs": [],
   "source": [
    "f1.Cache.clear_cache(\"C:\\Windows\\Temp\")"
   ]
  },
  {
   "cell_type": "code",
   "execution_count": 143,
   "metadata": {},
   "outputs": [],
   "source": [
    "Year = 2022\n",
    "GP = 3\n",
    "Type = \"Q\"\n",
    "session = f1.get_session(Year,GP, Type)"
   ]
  },
  {
   "cell_type": "code",
   "execution_count": 144,
   "metadata": {},
   "outputs": [
    {
     "name": "stderr",
     "output_type": "stream",
     "text": [
      "core           INFO \tLoading data for Australian Grand Prix - Qualifying [v2.3.0]\n",
      "api            INFO \tUsing cached data for driver_info\n",
      "api            INFO \tUsing cached data for timing_data\n",
      "api            INFO \tUsing cached data for timing_app_data\n",
      "core           INFO \tProcessing timing data...\n",
      "api            INFO \tUsing cached data for session_status_data\n",
      "api            INFO \tUsing cached data for track_status_data\n",
      "api            INFO \tUsing cached data for car_data\n",
      "api            INFO \tUsing cached data for position_data\n",
      "api            INFO \tUsing cached data for weather_data\n",
      "api            INFO \tUsing cached data for race_control_messages\n",
      "core           INFO \tFinished loading data for 20 drivers: ['16', '1', '11', '4', '44', '63', '3', '31', '55', '14', '10', '77', '22', '24', '47', '23', '20', '5', '6', '18']\n"
     ]
    }
   ],
   "source": [
    "session.load()"
   ]
  },
  {
   "cell_type": "code",
   "execution_count": 145,
   "metadata": {},
   "outputs": [],
   "source": [
    "drivers = pd.unique(session.laps[\"Driver\"])\n",
    "try:\n",
    "    fastest_laps = [session.laps.pick_driver(drv).pick_fastest(only_by_time = True) for drv in drivers]\n",
    "except:\n",
    "    fastest_laps = [session.laps.pick_driver(drv).pick_fastest() for drv in drivers]\n",
    "fastest_laps = Laps(fastest_laps).sort_values(by = \"LapTime\").reset_index(drop = True)\n",
    "fastest_laps = fastest_laps[fastest_laps['Driver'].notna()]\n"
   ]
  },
  {
   "cell_type": "code",
   "execution_count": 146,
   "metadata": {},
   "outputs": [
    {
     "name": "stdout",
     "output_type": "stream",
     "text": [
      "   Driver                LapTime           LapTimeDelta\n",
      "0     LEC 0 days 00:01:17.868000        0 days 00:00:00\n",
      "1     VER 0 days 00:01:18.154000 0 days 00:00:00.286000\n",
      "2     PER 0 days 00:01:18.240000 0 days 00:00:00.372000\n",
      "3     SAI 0 days 00:01:18.469000 0 days 00:00:00.601000\n",
      "4     NOR 0 days 00:01:18.703000 0 days 00:00:00.835000\n",
      "5     ALO 0 days 00:01:18.815000 0 days 00:00:00.947000\n",
      "6     HAM 0 days 00:01:18.825000 0 days 00:00:00.957000\n",
      "7     RUS 0 days 00:01:18.933000 0 days 00:00:01.065000\n",
      "8     RIC 0 days 00:01:19.032000 0 days 00:00:01.164000\n",
      "9     OCO 0 days 00:01:19.061000 0 days 00:00:01.193000\n",
      "10    GAS 0 days 00:01:19.226000 0 days 00:00:01.358000\n",
      "11    BOT 0 days 00:01:19.251000 0 days 00:00:01.383000\n",
      "12    TSU 0 days 00:01:19.424000 0 days 00:00:01.556000\n",
      "13    ZHO 0 days 00:01:19.910000 0 days 00:00:02.042000\n",
      "14    MSC 0 days 00:01:20.104000 0 days 00:00:02.236000\n",
      "15    ALB 0 days 00:01:20.135000 0 days 00:00:02.267000\n",
      "16    MAG 0 days 00:01:20.254000 0 days 00:00:02.386000\n",
      "17    VET 0 days 00:01:21.149000 0 days 00:00:03.281000\n",
      "18    LAT 0 days 00:01:21.372000 0 days 00:00:03.504000\n",
      "19    STR 0 days 00:01:46.833000 0 days 00:00:28.965000\n"
     ]
    }
   ],
   "source": [
    "pole = fastest_laps.pick_fastest()\n",
    "fastest_laps['LapTimeDelta'] = fastest_laps['LapTime'] - pole['LapTime']\n",
    "print(fastest_laps[['Driver','LapTime','LapTimeDelta']])"
   ]
  },
  {
   "cell_type": "code",
   "execution_count": 147,
   "metadata": {},
   "outputs": [
    {
     "name": "stderr",
     "output_type": "stream",
     "text": [
      "C:\\Users\\krusa\\AppData\\Local\\Temp\\ipykernel_12472\\456665631.py:15: UserWarning: FixedFormatter should only be used together with FixedLocator\n",
      "  ax.set_xticklabels(a)\n"
     ]
    },
    {
     "data": {
      "image/png": "[encoded data removed]",
      "text/plain": [
       "<Figure size 432x288 with 1 Axes>"
      ]
     },
     "metadata": {
      "needs_background": "light"
     },
     "output_type": "display_data"
    }
   ],
   "source": [
    "team_colors = list()\n",
    "for index, lap in fastest_laps.iterlaps():\n",
    "    color = fastf1.plotting.team_color(lap['Team'])\n",
    "    team_colors.append(color)\n",
    "\n",
    "fig, ax = plt.subplots()\n",
    "ax.barh(fastest_laps.index, fastest_laps['LapTimeDelta'],color= team_colors, edgecolor = 'grey')\n",
    "ax.set_yticks(fastest_laps.index)\n",
    "ax.set_yticklabels(fastest_laps['Driver'])\n",
    "ax.invert_yaxis()\n",
    "ax.set_axisbelow(True)\n",
    "plt.xlabel(\"Gap to pole [Seconds]\")\n",
    "ax.xaxis.grid(True, which='major', linestyle='--', color='black', zorder=-1000)\n",
    "a = np.array(ax.get_xticks().tolist())/1000000000\n",
    "ax.set_xticklabels(a)\n",
    "lap_time_string = strftimedelta(pole['LapTime'], '%m:%s.%ms')\n",
    "plt.suptitle(f\"{session.event['EventName']} {session.event.year} Qualifying\\n\" \n",
    "             f\"Fastest lap: {lap_time_string} ({pole['Driver']})\");\n",
    "\n"
   ]
  }
 ],
 "metadata": {
  "kernelspec": {
   "display_name": "Python 3",
   "language": "python",
   "name": "python3"
  },
  "language_info": {
   "codemirror_mode": {
    "name": "ipython",
    "version": 3
   },
   "file_extension": ".py",
   "mimetype": "text/x-python",
   "name": "python",
   "nbconvert_exporter": "python",
   "pygments_lexer": "ipython3",
   "version": "3.10.5"
  },
  "orig_nbformat": 4
 },
 "nbformat": 4,
 "nbformat_minor": 2
}
