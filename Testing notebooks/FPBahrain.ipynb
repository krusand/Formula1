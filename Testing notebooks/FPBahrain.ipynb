{
 "cells": [
  {
   "cell_type": "code",
   "execution_count": 174,
   "metadata": {},
   "outputs": [],
   "source": [
    "from fastf1.core import Laps\n",
    "import fastf1 as f1\n",
    "from fastf1 import plotting\n",
    "import plotly.express as px\n",
    "import pandas as pd\n",
    "import timple.timedelta as timedelta\n",
    "import numpy as np\n",
    "f1.Cache.enable_cache(r\"D:\\krusa\\Documents\\GitHub\\Formula1\\Cache\")\n",
    "pd.options.mode.chained_assignment = None"
   ]
  },
  {
   "cell_type": "code",
   "execution_count": 136,
   "metadata": {},
   "outputs": [],
   "source": [
    "f1.Cache.clear_cache(r\"D:\\krusa\\Documents\\GitHub\\Formula1\\Cache\")"
   ]
  },
  {
   "cell_type": "code",
   "execution_count": 138,
   "metadata": {},
   "outputs": [
    {
     "name": "stderr",
     "output_type": "stream",
     "text": [
      "core           INFO \tLoading data for Bahrain Grand Prix - Practice 1 [v2.3.0]\n",
      "api            INFO \tNo cached data found for driver_info. Loading data...\n",
      "api            INFO \tFetching driver list...\n",
      "api            INFO \tData has been written to cache!\n",
      "api            INFO \tNo cached data found for timing_data. Loading data...\n",
      "api            INFO \tFetching timing data...\n",
      "api            INFO \tParsing timing data...\n",
      "api            INFO \tData has been written to cache!\n",
      "api            INFO \tNo cached data found for timing_app_data. Loading data...\n",
      "api            INFO \tFetching timing app data...\n",
      "api            INFO \tData has been written to cache!\n",
      "core           INFO \tProcessing timing data...\n",
      "api            INFO \tNo cached data found for session_status_data. Loading data...\n",
      "api            INFO \tFetching session status data...\n",
      "api            INFO \tData has been written to cache!\n",
      "api            INFO \tNo cached data found for track_status_data. Loading data...\n",
      "api            INFO \tFetching track status data...\n",
      "api            INFO \tData has been written to cache!\n",
      "api            INFO \tNo cached data found for car_data. Loading data...\n",
      "api            INFO \tFetching car data...\n",
      "api            INFO \tParsing car data...\n",
      "api            INFO \tData has been written to cache!\n",
      "api            INFO \tNo cached data found for position_data. Loading data...\n",
      "api            INFO \tFetching position data...\n",
      "api            INFO \tParsing position data...\n",
      "api            INFO \tData has been written to cache!\n",
      "api            INFO \tNo cached data found for weather_data. Loading data...\n",
      "api            INFO \tFetching weather data...\n",
      "api            INFO \tData has been written to cache!\n",
      "api            INFO \tNo cached data found for race_control_messages. Loading data...\n",
      "api            INFO \tFetching race control messages...\n",
      "api            INFO \tData has been written to cache!\n",
      "core           INFO \tFinished loading data for 20 drivers: ['1', '55', '47', '44', '31', '27', '24', '23', '22', '20', '18', '16', '14', '11', '10', '6', '4', '3', '63', '77']\n",
      "core           INFO \tLoading data for Bahrain Grand Prix - Practice 2 [v2.3.0]\n",
      "api            INFO \tNo cached data found for driver_info. Loading data...\n",
      "api            INFO \tFetching driver list...\n",
      "api            INFO \tData has been written to cache!\n",
      "api            INFO \tNo cached data found for timing_data. Loading data...\n",
      "api            INFO \tFetching timing data...\n",
      "api            INFO \tParsing timing data...\n",
      "api            INFO \tData has been written to cache!\n",
      "api            INFO \tNo cached data found for timing_app_data. Loading data...\n",
      "api            INFO \tFetching timing app data...\n",
      "api            INFO \tData has been written to cache!\n",
      "core           INFO \tProcessing timing data...\n",
      "api            INFO \tNo cached data found for session_status_data. Loading data...\n",
      "api            INFO \tFetching session status data...\n",
      "api            INFO \tData has been written to cache!\n",
      "api            INFO \tNo cached data found for track_status_data. Loading data...\n",
      "api            INFO \tFetching track status data...\n",
      "api            INFO \tData has been written to cache!\n",
      "api            INFO \tNo cached data found for car_data. Loading data...\n",
      "api            INFO \tFetching car data...\n",
      "api            INFO \tParsing car data...\n",
      "api            INFO \tData has been written to cache!\n",
      "api            INFO \tNo cached data found for position_data. Loading data...\n",
      "api            INFO \tFetching position data...\n",
      "api            INFO \tParsing position data...\n",
      "api            INFO \tData has been written to cache!\n",
      "api            INFO \tNo cached data found for weather_data. Loading data...\n",
      "api            INFO \tFetching weather data...\n",
      "api            INFO \tData has been written to cache!\n",
      "api            INFO \tNo cached data found for race_control_messages. Loading data...\n",
      "api            INFO \tFetching race control messages...\n",
      "api            INFO \tData has been written to cache!\n",
      "core           INFO \tFinished loading data for 20 drivers: ['1', '55', '47', '44', '31', '27', '24', '23', '22', '20', '18', '16', '14', '11', '10', '6', '4', '3', '63', '77']\n",
      "core           INFO \tLoading data for Bahrain Grand Prix - Practice 3 [v2.3.0]\n",
      "api            INFO \tNo cached data found for driver_info. Loading data...\n",
      "api            INFO \tFetching driver list...\n",
      "api            INFO \tData has been written to cache!\n",
      "api            INFO \tNo cached data found for timing_data. Loading data...\n",
      "api            INFO \tFetching timing data...\n",
      "api            INFO \tParsing timing data...\n",
      "api            INFO \tData has been written to cache!\n",
      "api            INFO \tNo cached data found for timing_app_data. Loading data...\n",
      "api            INFO \tFetching timing app data...\n",
      "api            INFO \tData has been written to cache!\n",
      "core           INFO \tProcessing timing data...\n",
      "api            INFO \tNo cached data found for session_status_data. Loading data...\n",
      "api            INFO \tFetching session status data...\n",
      "api            INFO \tData has been written to cache!\n",
      "api            INFO \tNo cached data found for track_status_data. Loading data...\n",
      "api            INFO \tFetching track status data...\n",
      "api            INFO \tData has been written to cache!\n",
      "core        WARNING \tNo lap data for driver 22\n",
      "api            INFO \tNo cached data found for car_data. Loading data...\n",
      "api            INFO \tFetching car data...\n",
      "api            INFO \tParsing car data...\n",
      "api            INFO \tData has been written to cache!\n",
      "api            INFO \tNo cached data found for position_data. Loading data...\n",
      "api            INFO \tFetching position data...\n",
      "api            INFO \tParsing position data...\n",
      "api            INFO \tData has been written to cache!\n",
      "api            INFO \tNo cached data found for weather_data. Loading data...\n",
      "api            INFO \tFetching weather data...\n",
      "api            INFO \tData has been written to cache!\n",
      "api            INFO \tNo cached data found for race_control_messages. Loading data...\n",
      "api            INFO \tFetching race control messages...\n",
      "api            INFO \tData has been written to cache!\n",
      "core           INFO \tFinished loading data for 20 drivers: ['1', '55', '47', '44', '31', '27', '24', '23', '22', '20', '18', '16', '14', '11', '10', '6', '4', '3', '63', '77']\n",
      "core           INFO \tLoading data for Bahrain Grand Prix - Qualifying [v2.3.0]\n",
      "api            INFO \tNo cached data found for driver_info. Loading data...\n",
      "api            INFO \tFetching driver list...\n",
      "api            INFO \tData has been written to cache!\n",
      "api            INFO \tNo cached data found for timing_data. Loading data...\n",
      "api            INFO \tFetching timing data...\n",
      "api            INFO \tParsing timing data...\n",
      "api            INFO \tData has been written to cache!\n",
      "api            INFO \tNo cached data found for timing_app_data. Loading data...\n",
      "api            INFO \tFetching timing app data...\n",
      "api            INFO \tData has been written to cache!\n",
      "core           INFO \tProcessing timing data...\n",
      "api            INFO \tNo cached data found for session_status_data. Loading data...\n",
      "api            INFO \tFetching session status data...\n",
      "api            INFO \tData has been written to cache!\n",
      "api            INFO \tNo cached data found for track_status_data. Loading data...\n",
      "api            INFO \tFetching track status data...\n",
      "api            INFO \tData has been written to cache!\n",
      "api            INFO \tNo cached data found for car_data. Loading data...\n",
      "api            INFO \tFetching car data...\n",
      "api            INFO \tParsing car data...\n",
      "api            INFO \tData has been written to cache!\n",
      "api            INFO \tNo cached data found for position_data. Loading data...\n",
      "api            INFO \tFetching position data...\n",
      "api            INFO \tParsing position data...\n",
      "api            INFO \tData has been written to cache!\n",
      "api            INFO \tNo cached data found for weather_data. Loading data...\n",
      "api            INFO \tFetching weather data...\n",
      "api            INFO \tData has been written to cache!\n",
      "api            INFO \tNo cached data found for race_control_messages. Loading data...\n",
      "api            INFO \tFetching race control messages...\n",
      "api            INFO \tData has been written to cache!\n",
      "core           INFO \tFinished loading data for 20 drivers: ['16', '1', '55', '11', '44', '77', '20', '14', '63', '10', '31', '47', '4', '23', '24', '22', '27', '3', '18', '6']\n",
      "core           INFO \tLoading data for Bahrain Grand Prix - Race [v2.3.0]\n",
      "api            INFO \tNo cached data found for driver_info. Loading data...\n",
      "api            INFO \tFetching driver list...\n",
      "api            INFO \tData has been written to cache!\n",
      "api            INFO \tNo cached data found for timing_data. Loading data...\n",
      "api            INFO \tFetching timing data...\n",
      "api            INFO \tParsing timing data...\n",
      "api            INFO \tData has been written to cache!\n",
      "api            INFO \tNo cached data found for timing_app_data. Loading data...\n",
      "api            INFO \tFetching timing app data...\n",
      "api            INFO \tData has been written to cache!\n",
      "core           INFO \tProcessing timing data...\n",
      "api            INFO \tNo cached data found for session_status_data. Loading data...\n",
      "api            INFO \tFetching session status data...\n",
      "api            INFO \tData has been written to cache!\n",
      "api            INFO \tNo cached data found for track_status_data. Loading data...\n",
      "api            INFO \tFetching track status data...\n",
      "api            INFO \tData has been written to cache!\n",
      "api            INFO \tNo cached data found for car_data. Loading data...\n",
      "api            INFO \tFetching car data...\n",
      "api            INFO \tParsing car data...\n",
      "api            INFO \tData has been written to cache!\n",
      "api            INFO \tNo cached data found for position_data. Loading data...\n",
      "api            INFO \tFetching position data...\n",
      "api            INFO \tParsing position data...\n",
      "api         WARNING \tDriver 241: Position data is incomplete!\n",
      "api         WARNING \tDriver 242: Position data is incomplete!\n",
      "api            INFO \tData has been written to cache!\n",
      "api            INFO \tNo cached data found for weather_data. Loading data...\n",
      "api            INFO \tFetching weather data...\n",
      "api            INFO \tData has been written to cache!\n",
      "api            INFO \tNo cached data found for race_control_messages. Loading data...\n",
      "api            INFO \tFetching race control messages...\n",
      "api            INFO \tData has been written to cache!\n",
      "core           INFO \tFinished loading data for 20 drivers: ['16', '55', '44', '63', '20', '77', '31', '22', '14', '24', '47', '18', '23', '3', '4', '6', '27', '11', '1', '10']\n"
     ]
    }
   ],
   "source": [
    "Year = 2022\n",
    "GP = 1\n",
    "FP1 = f1.get_session(Year, GP, \"FP1\")\n",
    "FP2 = f1.get_session(Year, GP, \"FP2\")\n",
    "FP3 = f1.get_session(Year, GP, \"FP3\")\n",
    "Quali = f1.get_session(Year, GP, \"Q\")\n",
    "Race = f1.get_session(Year, GP, \"R\")\n",
    "FP1.load()\n",
    "FP2.load()\n",
    "FP3.load()\n",
    "Quali.load()\n",
    "Race.load()"
   ]
  },
  {
   "cell_type": "code",
   "execution_count": 204,
   "metadata": {},
   "outputs": [
    {
     "data": {
      "application/vnd.plotly.v1+json": {
       "config": {
        "plotlyServerURL": "https://plot.ly"
       },
       "data": [
        {
         "alignmentgroup": "True",
         "boxpoints": "all",
         "hovertemplate": "Driver=%{x}<br>LapTime=%{y}<extra></extra>",
         "legendgroup": "LEC",
         "marker": {
          "color": "#636efa"
         },
         "name": "LEC",
         "notched": false,
         "offsetgroup": "LEC",
         "orientation": "v",
         "showlegend": true,
         "type": "box",
         "x": [
          "LEC",
          "LEC"
         ],
         "x0": " ",
         "xaxis": "x",
         "y": [
          93.459,
          93.12100000000001
         ],
         "y0": " ",
         "yaxis": "y"
        },
        {
         "alignmentgroup": "True",
         "boxpoints": "all",
         "hovertemplate": "Driver=%{x}<br>LapTime=%{y}<extra></extra>",
         "legendgroup": "VER",
         "marker": {
          "color": "#EF553B"
         },
         "name": "VER",
         "notched": false,
         "offsetgroup": "VER",
         "orientation": "v",
         "showlegend": true,
         "type": "box",
         "x": [
          "VER",
          "VER",
          "VER"
         ],
         "x0": " ",
         "xaxis": "x",
         "y": [
          93.62100000000001,
          93.691,
          102.51100000000001
         ],
         "y0": " ",
         "yaxis": "y"
        },
        {
         "alignmentgroup": "True",
         "boxpoints": "all",
         "hovertemplate": "Driver=%{x}<br>LapTime=%{y}<extra></extra>",
         "legendgroup": "BOT",
         "marker": {
          "color": "#00cc96"
         },
         "name": "BOT",
         "notched": false,
         "offsetgroup": "BOT",
         "orientation": "v",
         "showlegend": true,
         "type": "box",
         "x": [
          "BOT",
          "BOT",
          "BOT",
          "BOT",
          "BOT"
         ],
         "x0": " ",
         "xaxis": "x",
         "y": [
          94.64500000000001,
          94.604,
          95.10000000000001,
          93.97,
          98.16900000000001
         ],
         "y0": " ",
         "yaxis": "y"
        },
        {
         "alignmentgroup": "True",
         "boxpoints": "all",
         "hovertemplate": "Driver=%{x}<br>LapTime=%{y}<extra></extra>",
         "legendgroup": "RUS",
         "marker": {
          "color": "#ab63fa"
         },
         "name": "RUS",
         "notched": false,
         "offsetgroup": "RUS",
         "orientation": "v",
         "showlegend": true,
         "type": "box",
         "x": [
          "RUS",
          "RUS",
          "RUS"
         ],
         "x0": " ",
         "xaxis": "x",
         "y": [
          94.908,
          94.971,
          94.86
         ],
         "y0": " ",
         "yaxis": "y"
        },
        {
         "alignmentgroup": "True",
         "boxpoints": "all",
         "hovertemplate": "Driver=%{x}<br>LapTime=%{y}<extra></extra>",
         "legendgroup": "STR",
         "marker": {
          "color": "#FFA15A"
         },
         "name": "STR",
         "notched": false,
         "offsetgroup": "STR",
         "orientation": "v",
         "showlegend": true,
         "type": "box",
         "x": [
          "STR",
          "STR"
         ],
         "x0": " ",
         "xaxis": "x",
         "y": [
          96.01100000000001,
          95.531
         ],
         "y0": " ",
         "yaxis": "y"
        },
        {
         "alignmentgroup": "True",
         "boxpoints": "all",
         "hovertemplate": "Driver=%{x}<br>LapTime=%{y}<extra></extra>",
         "legendgroup": "GAS",
         "marker": {
          "color": "#19d3f3"
         },
         "name": "GAS",
         "notched": false,
         "offsetgroup": "GAS",
         "orientation": "v",
         "showlegend": true,
         "type": "box",
         "x": [
          "GAS",
          "GAS",
          "GAS",
          "GAS",
          "GAS",
          "GAS"
         ],
         "x0": " ",
         "xaxis": "x",
         "y": [
          107.959,
          106.85000000000001,
          94.905,
          95.09700000000001,
          94.96400000000001,
          98.09800000000001
         ],
         "y0": " ",
         "yaxis": "y"
        },
        {
         "alignmentgroup": "True",
         "boxpoints": "all",
         "hovertemplate": "Driver=%{x}<br>LapTime=%{y}<extra></extra>",
         "legendgroup": "MAG",
         "marker": {
          "color": "#FF6692"
         },
         "name": "MAG",
         "notched": false,
         "offsetgroup": "MAG",
         "orientation": "v",
         "showlegend": true,
         "type": "box",
         "x": [
          "MAG",
          "MAG",
          "MAG",
          "MAG"
         ],
         "x0": " ",
         "xaxis": "x",
         "y": [
          94.572,
          98.80000000000001,
          94.78200000000001,
          100.655
         ],
         "y0": " ",
         "yaxis": "y"
        },
        {
         "alignmentgroup": "True",
         "boxpoints": "all",
         "hovertemplate": "Driver=%{x}<br>LapTime=%{y}<extra></extra>",
         "legendgroup": "LAT",
         "marker": {
          "color": "#B6E880"
         },
         "name": "LAT",
         "notched": false,
         "offsetgroup": "LAT",
         "orientation": "v",
         "showlegend": true,
         "type": "box",
         "x": [
          "LAT",
          "LAT",
          "LAT",
          "LAT",
          "LAT"
         ],
         "x0": " ",
         "xaxis": "x",
         "y": [
          102.55300000000001,
          97.613,
          99.605,
          97.01,
          96.489
         ],
         "y0": " ",
         "yaxis": "y"
        },
        {
         "alignmentgroup": "True",
         "boxpoints": "all",
         "hovertemplate": "Driver=%{x}<br>LapTime=%{y}<extra></extra>",
         "legendgroup": "ALO",
         "marker": {
          "color": "#FF97FF"
         },
         "name": "ALO",
         "notched": false,
         "offsetgroup": "ALO",
         "orientation": "v",
         "showlegend": true,
         "type": "box",
         "x": [
          "ALO",
          "ALO",
          "ALO",
          "ALO",
          "ALO",
          "ALO",
          "ALO",
          "ALO",
          "ALO",
          "ALO",
          "ALO"
         ],
         "x0": " ",
         "xaxis": "x",
         "y": [
          101.715,
          98.99600000000001,
          98.581,
          98.254,
          98.36800000000001,
          98.16600000000001,
          98.236,
          94.372,
          98.965,
          94.80000000000001,
          99.34700000000001
         ],
         "y0": " ",
         "yaxis": "y"
        },
        {
         "alignmentgroup": "True",
         "boxpoints": "all",
         "hovertemplate": "Driver=%{x}<br>LapTime=%{y}<extra></extra>",
         "legendgroup": "HAM",
         "marker": {
          "color": "#FECB52"
         },
         "name": "HAM",
         "notched": false,
         "offsetgroup": "HAM",
         "orientation": "v",
         "showlegend": true,
         "type": "box",
         "x": [
          "HAM",
          "HAM",
          "HAM",
          "HAM",
          "HAM",
          "HAM",
          "HAM",
          "HAM",
          "HAM",
          "HAM",
          "HAM",
          "HAM",
          "HAM"
         ],
         "x0": " ",
         "xaxis": "x",
         "y": [
          98.733,
          98.167,
          98.46600000000001,
          98.02600000000001,
          98.735,
          103.4,
          105.117,
          98.81400000000001,
          98.82700000000001,
          99.489,
          94.379,
          99.548,
          100.71900000000001
         ],
         "y0": " ",
         "yaxis": "y"
        },
        {
         "alignmentgroup": "True",
         "boxpoints": "all",
         "hovertemplate": "Driver=%{x}<br>LapTime=%{y}<extra></extra>",
         "legendgroup": "OCO",
         "marker": {
          "color": "#636efa"
         },
         "name": "OCO",
         "notched": false,
         "offsetgroup": "OCO",
         "orientation": "v",
         "showlegend": true,
         "type": "box",
         "x": [
          "OCO",
          "OCO",
          "OCO",
          "OCO",
          "OCO"
         ],
         "x0": " ",
         "xaxis": "x",
         "y": [
          98.873,
          94.55000000000001,
          95.482,
          107.77300000000001,
          98.858
         ],
         "y0": " ",
         "yaxis": "y"
        },
        {
         "alignmentgroup": "True",
         "boxpoints": "all",
         "hovertemplate": "Driver=%{x}<br>LapTime=%{y}<extra></extra>",
         "legendgroup": "ZHO",
         "marker": {
          "color": "#EF553B"
         },
         "name": "ZHO",
         "notched": false,
         "offsetgroup": "ZHO",
         "orientation": "v",
         "showlegend": true,
         "type": "box",
         "x": [
          "ZHO",
          "ZHO",
          "ZHO",
          "ZHO",
          "ZHO",
          "ZHO",
          "ZHO",
          "ZHO",
          "ZHO",
          "ZHO",
          "ZHO",
          "ZHO",
          "ZHO"
         ],
         "x0": " ",
         "xaxis": "x",
         "y": [
          99.34100000000001,
          99.20400000000001,
          99.07000000000001,
          99.183,
          99.119,
          95.61500000000001,
          94.558,
          95.557,
          99.64500000000001,
          100.57900000000001,
          99.17500000000001,
          99.15400000000001,
          95.095
         ],
         "y0": " ",
         "yaxis": "y"
        },
        {
         "alignmentgroup": "True",
         "boxpoints": "all",
         "hovertemplate": "Driver=%{x}<br>LapTime=%{y}<extra></extra>",
         "legendgroup": "TSU",
         "marker": {
          "color": "#00cc96"
         },
         "name": "TSU",
         "notched": false,
         "offsetgroup": "TSU",
         "orientation": "v",
         "showlegend": true,
         "type": "box",
         "x": [
          "TSU",
          "TSU",
          "TSU",
          "TSU",
          "TSU",
          "TSU",
          "TSU",
          "TSU",
          "TSU",
          "TSU"
         ],
         "x0": " ",
         "xaxis": "x",
         "y": [
          99.777,
          95.003,
          94.408,
          99.256,
          100.08200000000001,
          99.162,
          99.77300000000001,
          98.834,
          99.20200000000001,
          95.167
         ],
         "y0": " ",
         "yaxis": "y"
        },
        {
         "alignmentgroup": "True",
         "boxpoints": "all",
         "hovertemplate": "Driver=%{x}<br>LapTime=%{y}<extra></extra>",
         "legendgroup": "MSC",
         "marker": {
          "color": "#ab63fa"
         },
         "name": "MSC",
         "notched": false,
         "offsetgroup": "MSC",
         "orientation": "v",
         "showlegend": true,
         "type": "box",
         "x": [
          "MSC",
          "MSC",
          "MSC",
          "MSC",
          "MSC",
          "MSC",
          "MSC",
          "MSC",
          "MSC",
          "MSC",
          "MSC"
         ],
         "x0": " ",
         "xaxis": "x",
         "y": [
          95.62100000000001,
          99.301,
          99.54,
          99.39500000000001,
          99.808,
          99.811,
          100.024,
          95.503,
          100.471,
          95.00800000000001,
          100.06200000000001
         ],
         "y0": " ",
         "yaxis": "y"
        },
        {
         "alignmentgroup": "True",
         "boxpoints": "all",
         "hovertemplate": "Driver=%{x}<br>LapTime=%{y}<extra></extra>",
         "legendgroup": "ALB",
         "marker": {
          "color": "#FFA15A"
         },
         "name": "ALB",
         "notched": false,
         "offsetgroup": "ALB",
         "orientation": "v",
         "showlegend": true,
         "type": "box",
         "x": [
          "ALB",
          "ALB",
          "ALB",
          "ALB",
          "ALB",
          "ALB",
          "ALB",
          "ALB"
         ],
         "x0": " ",
         "xaxis": "x",
         "y": [
          100.683,
          100.232,
          96.971,
          100.302,
          100.17500000000001,
          99.86500000000001,
          99.679,
          96.16300000000001
         ],
         "y0": " ",
         "yaxis": "y"
        },
        {
         "alignmentgroup": "True",
         "boxpoints": "all",
         "hovertemplate": "Driver=%{x}<br>LapTime=%{y}<extra></extra>",
         "legendgroup": "HUL",
         "marker": {
          "color": "#19d3f3"
         },
         "name": "HUL",
         "notched": false,
         "offsetgroup": "HUL",
         "orientation": "v",
         "showlegend": true,
         "type": "box",
         "x": [
          "HUL",
          "HUL",
          "HUL",
          "HUL",
          "HUL",
          "HUL",
          "HUL",
          "HUL",
          "HUL",
          "HUL",
          "HUL",
          "HUL",
          "HUL",
          "HUL",
          "HUL"
         ],
         "x0": " ",
         "xaxis": "x",
         "y": [
          100.247,
          103.012,
          96.24000000000001,
          100.637,
          107.85300000000001,
          97.016,
          99.81400000000001,
          99.896,
          100.28200000000001,
          102.20500000000001,
          100.244,
          100.29,
          102.849,
          100.509,
          100.168
         ],
         "y0": " ",
         "yaxis": "y"
        },
        {
         "alignmentgroup": "True",
         "boxpoints": "all",
         "hovertemplate": "Driver=%{x}<br>LapTime=%{y}<extra></extra>",
         "legendgroup": "PER",
         "marker": {
          "color": "#FF6692"
         },
         "name": "PER",
         "notched": false,
         "offsetgroup": "PER",
         "orientation": "v",
         "showlegend": true,
         "type": "box",
         "x": [
          "PER",
          "PER"
         ],
         "x0": " ",
         "xaxis": "x",
         "y": [
          106.912,
          94.30000000000001
         ],
         "y0": " ",
         "yaxis": "y"
        },
        {
         "alignmentgroup": "True",
         "boxpoints": "all",
         "hovertemplate": "Driver=%{x}<br>LapTime=%{y}<extra></extra>",
         "legendgroup": "SAI",
         "marker": {
          "color": "#B6E880"
         },
         "name": "SAI",
         "notched": false,
         "offsetgroup": "SAI",
         "orientation": "v",
         "showlegend": true,
         "type": "box",
         "x": [
          "SAI",
          "SAI",
          "SAI",
          "SAI"
         ],
         "x0": " ",
         "xaxis": "x",
         "y": [
          97.947,
          104.97600000000001,
          103.643,
          93.837
         ],
         "y0": " ",
         "yaxis": "y"
        }
       ],
       "layout": {
        "boxmode": "overlay",
        "legend": {
         "title": {
          "text": "Driver"
         },
         "tracegroupgap": 0
        },
        "margin": {
         "t": 60
        },
        "template": {
         "data": {
          "bar": [
           {
            "error_x": {
             "color": "#2a3f5f"
            },
            "error_y": {
             "color": "#2a3f5f"
            },
            "marker": {
             "line": {
              "color": "#E5ECF6",
              "width": 0.5
             },
             "pattern": {
              "fillmode": "overlay",
              "size": 10,
              "solidity": 0.2
             }
            },
            "type": "bar"
           }
          ],
          "barpolar": [
           {
            "marker": {
             "line": {
              "color": "#E5ECF6",
              "width": 0.5
             },
             "pattern": {
              "fillmode": "overlay",
              "size": 10,
              "solidity": 0.2
             }
            },
            "type": "barpolar"
           }
          ],
          "carpet": [
           {
            "aaxis": {
             "endlinecolor": "#2a3f5f",
             "gridcolor": "white",
             "linecolor": "white",
             "minorgridcolor": "white",
             "startlinecolor": "#2a3f5f"
            },
            "baxis": {
             "endlinecolor": "#2a3f5f",
             "gridcolor": "white",
             "linecolor": "white",
             "minorgridcolor": "white",
             "startlinecolor": "#2a3f5f"
            },
            "type": "carpet"
           }
          ],
          "choropleth": [
           {
            "colorbar": {
             "outlinewidth": 0,
             "ticks": ""
            },
            "type": "choropleth"
           }
          ],
          "contour": [
           {
            "colorbar": {
             "outlinewidth": 0,
             "ticks": ""
            },
            "colorscale": [
             [
              0,
              "#0d0887"
             ],
             [
              0.1111111111111111,
              "#46039f"
             ],
             [
              0.2222222222222222,
              "#7201a8"
             ],
             [
              0.3333333333333333,
              "#9c179e"
             ],
             [
              0.4444444444444444,
              "#bd3786"
             ],
             [
              0.5555555555555556,
              "#d8576b"
             ],
             [
              0.6666666666666666,
              "#ed7953"
             ],
             [
              0.7777777777777778,
              "#fb9f3a"
             ],
             [
              0.8888888888888888,
              "#fdca26"
             ],
             [
              1,
              "#f0f921"
             ]
            ],
            "type": "contour"
           }
          ],
          "contourcarpet": [
           {
            "colorbar": {
             "outlinewidth": 0,
             "ticks": ""
            },
            "type": "contourcarpet"
           }
          ],
          "heatmap": [
           {
            "colorbar": {
             "outlinewidth": 0,
             "ticks": ""
            },
            "colorscale": [
             [
              0,
              "#0d0887"
             ],
             [
              0.1111111111111111,
              "#46039f"
             ],
             [
              0.2222222222222222,
              "#7201a8"
             ],
             [
              0.3333333333333333,
              "#9c179e"
             ],
             [
              0.4444444444444444,
              "#bd3786"
             ],
             [
              0.5555555555555556,
              "#d8576b"
             ],
             [
              0.6666666666666666,
              "#ed7953"
             ],
             [
              0.7777777777777778,
              "#fb9f3a"
             ],
             [
              0.8888888888888888,
              "#fdca26"
             ],
             [
              1,
              "#f0f921"
             ]
            ],
            "type": "heatmap"
           }
          ],
          "heatmapgl": [
           {
            "colorbar": {
             "outlinewidth": 0,
             "ticks": ""
            },
            "colorscale": [
             [
              0,
              "#0d0887"
             ],
             [
              0.1111111111111111,
              "#46039f"
             ],
             [
              0.2222222222222222,
              "#7201a8"
             ],
             [
              0.3333333333333333,
              "#9c179e"
             ],
             [
              0.4444444444444444,
              "#bd3786"
             ],
             [
              0.5555555555555556,
              "#d8576b"
             ],
             [
              0.6666666666666666,
              "#ed7953"
             ],
             [
              0.7777777777777778,
              "#fb9f3a"
             ],
             [
              0.8888888888888888,
              "#fdca26"
             ],
             [
              1,
              "#f0f921"
             ]
            ],
            "type": "heatmapgl"
           }
          ],
          "histogram": [
           {
            "marker": {
             "pattern": {
              "fillmode": "overlay",
              "size": 10,
              "solidity": 0.2
             }
            },
            "type": "histogram"
           }
          ],
          "histogram2d": [
           {
            "colorbar": {
             "outlinewidth": 0,
             "ticks": ""
            },
            "colorscale": [
             [
              0,
              "#0d0887"
             ],
             [
              0.1111111111111111,
              "#46039f"
             ],
             [
              0.2222222222222222,
              "#7201a8"
             ],
             [
              0.3333333333333333,
              "#9c179e"
             ],
             [
              0.4444444444444444,
              "#bd3786"
             ],
             [
              0.5555555555555556,
              "#d8576b"
             ],
             [
              0.6666666666666666,
              "#ed7953"
             ],
             [
              0.7777777777777778,
              "#fb9f3a"
             ],
             [
              0.8888888888888888,
              "#fdca26"
             ],
             [
              1,
              "#f0f921"
             ]
            ],
            "type": "histogram2d"
           }
          ],
          "histogram2dcontour": [
           {
            "colorbar": {
             "outlinewidth": 0,
             "ticks": ""
            },
            "colorscale": [
             [
              0,
              "#0d0887"
             ],
             [
              0.1111111111111111,
              "#46039f"
             ],
             [
              0.2222222222222222,
              "#7201a8"
             ],
             [
              0.3333333333333333,
              "#9c179e"
             ],
             [
              0.4444444444444444,
              "#bd3786"
             ],
             [
              0.5555555555555556,
              "#d8576b"
             ],
             [
              0.6666666666666666,
              "#ed7953"
             ],
             [
              0.7777777777777778,
              "#fb9f3a"
             ],
             [
              0.8888888888888888,
              "#fdca26"
             ],
             [
              1,
              "#f0f921"
             ]
            ],
            "type": "histogram2dcontour"
           }
          ],
          "mesh3d": [
           {
            "colorbar": {
             "outlinewidth": 0,
             "ticks": ""
            },
            "type": "mesh3d"
           }
          ],
          "parcoords": [
           {
            "line": {
             "colorbar": {
              "outlinewidth": 0,
              "ticks": ""
             }
            },
            "type": "parcoords"
           }
          ],
          "pie": [
           {
            "automargin": true,
            "type": "pie"
           }
          ],
          "scatter": [
           {
            "fillpattern": {
             "fillmode": "overlay",
             "size": 10,
             "solidity": 0.2
            },
            "type": "scatter"
           }
          ],
          "scatter3d": [
           {
            "line": {
             "colorbar": {
              "outlinewidth": 0,
              "ticks": ""
             }
            },
            "marker": {
             "colorbar": {
              "outlinewidth": 0,
              "ticks": ""
             }
            },
            "type": "scatter3d"
           }
          ],
          "scattercarpet": [
           {
            "marker": {
             "colorbar": {
              "outlinewidth": 0,
              "ticks": ""
             }
            },
            "type": "scattercarpet"
           }
          ],
          "scattergeo": [
           {
            "marker": {
             "colorbar": {
              "outlinewidth": 0,
              "ticks": ""
             }
            },
            "type": "scattergeo"
           }
          ],
          "scattergl": [
           {
            "marker": {
             "colorbar": {
              "outlinewidth": 0,
              "ticks": ""
             }
            },
            "type": "scattergl"
           }
          ],
          "scattermapbox": [
           {
            "marker": {
             "colorbar": {
              "outlinewidth": 0,
              "ticks": ""
             }
            },
            "type": "scattermapbox"
           }
          ],
          "scatterpolar": [
           {
            "marker": {
             "colorbar": {
              "outlinewidth": 0,
              "ticks": ""
             }
            },
            "type": "scatterpolar"
           }
          ],
          "scatterpolargl": [
           {
            "marker": {
             "colorbar": {
              "outlinewidth": 0,
              "ticks": ""
             }
            },
            "type": "scatterpolargl"
           }
          ],
          "scatterternary": [
           {
            "marker": {
             "colorbar": {
              "outlinewidth": 0,
              "ticks": ""
             }
            },
            "type": "scatterternary"
           }
          ],
          "surface": [
           {
            "colorbar": {
             "outlinewidth": 0,
             "ticks": ""
            },
            "colorscale": [
             [
              0,
              "#0d0887"
             ],
             [
              0.1111111111111111,
              "#46039f"
             ],
             [
              0.2222222222222222,
              "#7201a8"
             ],
             [
              0.3333333333333333,
              "#9c179e"
             ],
             [
              0.4444444444444444,
              "#bd3786"
             ],
             [
              0.5555555555555556,
              "#d8576b"
             ],
             [
              0.6666666666666666,
              "#ed7953"
             ],
             [
              0.7777777777777778,
              "#fb9f3a"
             ],
             [
              0.8888888888888888,
              "#fdca26"
             ],
             [
              1,
              "#f0f921"
             ]
            ],
            "type": "surface"
           }
          ],
          "table": [
           {
            "cells": {
             "fill": {
              "color": "#EBF0F8"
             },
             "line": {
              "color": "white"
             }
            },
            "header": {
             "fill": {
              "color": "#C8D4E3"
             },
             "line": {
              "color": "white"
             }
            },
            "type": "table"
           }
          ]
         },
         "layout": {
          "annotationdefaults": {
           "arrowcolor": "#2a3f5f",
           "arrowhead": 0,
           "arrowwidth": 1
          },
          "autotypenumbers": "strict",
          "coloraxis": {
           "colorbar": {
            "outlinewidth": 0,
            "ticks": ""
           }
          },
          "colorscale": {
           "diverging": [
            [
             0,
             "#8e0152"
            ],
            [
             0.1,
             "#c51b7d"
            ],
            [
             0.2,
             "#de77ae"
            ],
            [
             0.3,
             "#f1b6da"
            ],
            [
             0.4,
             "#fde0ef"
            ],
            [
             0.5,
             "#f7f7f7"
            ],
            [
             0.6,
             "#e6f5d0"
            ],
            [
             0.7,
             "#b8e186"
            ],
            [
             0.8,
             "#7fbc41"
            ],
            [
             0.9,
             "#4d9221"
            ],
            [
             1,
             "#276419"
            ]
           ],
           "sequential": [
            [
             0,
             "#0d0887"
            ],
            [
             0.1111111111111111,
             "#46039f"
            ],
            [
             0.2222222222222222,
             "#7201a8"
            ],
            [
             0.3333333333333333,
             "#9c179e"
            ],
            [
             0.4444444444444444,
             "#bd3786"
            ],
            [
             0.5555555555555556,
             "#d8576b"
            ],
            [
             0.6666666666666666,
             "#ed7953"
            ],
            [
             0.7777777777777778,
             "#fb9f3a"
            ],
            [
             0.8888888888888888,
             "#fdca26"
            ],
            [
             1,
             "#f0f921"
            ]
           ],
           "sequentialminus": [
            [
             0,
             "#0d0887"
            ],
            [
             0.1111111111111111,
             "#46039f"
            ],
            [
             0.2222222222222222,
             "#7201a8"
            ],
            [
             0.3333333333333333,
             "#9c179e"
            ],
            [
             0.4444444444444444,
             "#bd3786"
            ],
            [
             0.5555555555555556,
             "#d8576b"
            ],
            [
             0.6666666666666666,
             "#ed7953"
            ],
            [
             0.7777777777777778,
             "#fb9f3a"
            ],
            [
             0.8888888888888888,
             "#fdca26"
            ],
            [
             1,
             "#f0f921"
            ]
           ]
          },
          "colorway": [
           "#636efa",
           "#EF553B",
           "#00cc96",
           "#ab63fa",
           "#FFA15A",
           "#19d3f3",
           "#FF6692",
           "#B6E880",
           "#FF97FF",
           "#FECB52"
          ],
          "font": {
           "color": "#2a3f5f"
          },
          "geo": {
           "bgcolor": "white",
           "lakecolor": "white",
           "landcolor": "#E5ECF6",
           "showlakes": true,
           "showland": true,
           "subunitcolor": "white"
          },
          "hoverlabel": {
           "align": "left"
          },
          "hovermode": "closest",
          "mapbox": {
           "style": "light"
          },
          "paper_bgcolor": "white",
          "plot_bgcolor": "#E5ECF6",
          "polar": {
           "angularaxis": {
            "gridcolor": "white",
            "linecolor": "white",
            "ticks": ""
           },
           "bgcolor": "#E5ECF6",
           "radialaxis": {
            "gridcolor": "white",
            "linecolor": "white",
            "ticks": ""
           }
          },
          "scene": {
           "xaxis": {
            "backgroundcolor": "#E5ECF6",
            "gridcolor": "white",
            "gridwidth": 2,
            "linecolor": "white",
            "showbackground": true,
            "ticks": "",
            "zerolinecolor": "white"
           },
           "yaxis": {
            "backgroundcolor": "#E5ECF6",
            "gridcolor": "white",
            "gridwidth": 2,
            "linecolor": "white",
            "showbackground": true,
            "ticks": "",
            "zerolinecolor": "white"
           },
           "zaxis": {
            "backgroundcolor": "#E5ECF6",
            "gridcolor": "white",
            "gridwidth": 2,
            "linecolor": "white",
            "showbackground": true,
            "ticks": "",
            "zerolinecolor": "white"
           }
          },
          "shapedefaults": {
           "line": {
            "color": "#2a3f5f"
           }
          },
          "ternary": {
           "aaxis": {
            "gridcolor": "white",
            "linecolor": "white",
            "ticks": ""
           },
           "baxis": {
            "gridcolor": "white",
            "linecolor": "white",
            "ticks": ""
           },
           "bgcolor": "#E5ECF6",
           "caxis": {
            "gridcolor": "white",
            "linecolor": "white",
            "ticks": ""
           }
          },
          "title": {
           "x": 0.05
          },
          "xaxis": {
           "automargin": true,
           "gridcolor": "white",
           "linecolor": "white",
           "ticks": "",
           "title": {
            "standoff": 15
           },
           "zerolinecolor": "white",
           "zerolinewidth": 2
          },
          "yaxis": {
           "automargin": true,
           "gridcolor": "white",
           "linecolor": "white",
           "ticks": "",
           "title": {
            "standoff": 15
           },
           "zerolinecolor": "white",
           "zerolinewidth": 2
          }
         }
        },
        "xaxis": {
         "anchor": "y",
         "categoryarray": [
          "LEC",
          "VER",
          "BOT",
          "RUS",
          "STR",
          "GAS",
          "MAG",
          "LAT",
          "ALO",
          "HAM",
          "OCO",
          "ZHO",
          "TSU",
          "MSC",
          "ALB",
          "HUL",
          "PER",
          "SAI"
         ],
         "categoryorder": "array",
         "domain": [
          0,
          1
         ],
         "title": {
          "text": "Driver"
         }
        },
        "yaxis": {
         "anchor": "x",
         "domain": [
          0,
          1
         ],
         "title": {
          "text": "LapTime"
         }
        }
       }
      }
     },
     "metadata": {},
     "output_type": "display_data"
    }
   ],
   "source": [
    "session = FP2.laps.pick_tyre(\"MEDIUM\")\n",
    "session =session[session['LapTime'].notna()]\n",
    "df = session\n",
    "df[\"LapTime\"] = pd.to_timedelta(df.LapTime).dt.total_seconds()\n",
    "df.drop(df[df.LapTime > 108].index, inplace=True)\n",
    "df[\"MedianTime\"] = 0\n",
    "drivers = pd.unique(df.Driver)\n",
    "for driver in drivers:\n",
    "    df[\"MedianTime\"].loc[df[\"Driver\"]==driver] = np.median(df[df[\"Driver\"] == driver][\"LapTime\"])\n",
    "df = df.reindex(df.MedianTime.sort_values().index)\n",
    "fig = px.box(df, y = \"LapTime\", x=\"Driver\", color=\"Driver\",points=\"all\")\n",
    "fig.show()"
   ]
  }
 ],
 "metadata": {
  "kernelspec": {
   "display_name": "Python 3",
   "language": "python",
   "name": "python3"
  },
  "language_info": {
   "codemirror_mode": {
    "name": "ipython",
    "version": 3
   },
   "file_extension": ".py",
   "mimetype": "text/x-python",
   "name": "python",
   "nbconvert_exporter": "python",
   "pygments_lexer": "ipython3",
   "version": "3.10.6"
  },
  "orig_nbformat": 4
 },
 "nbformat": 4,
 "nbformat_minor": 2
}
