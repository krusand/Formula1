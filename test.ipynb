{
 "cells": [
  {
   "cell_type": "code",
   "execution_count": 98,
   "metadata": {},
   "outputs": [],
   "source": [
    "import fastf1 as f1\n",
    "import fastf1.plotting\n",
    "from fastf1.core import Laps\n",
    "import matplotlib.pyplot as plt\n",
    "import pandas as pd\n",
    "from timple.timedelta import strftimedelta\n",
    "import numpy as np\n",
    "import os\n"
   ]
  },
  {
   "cell_type": "code",
   "execution_count": 89,
   "metadata": {},
   "outputs": [],
   "source": [
    "# f1.Cache.clear_cache(\"C:\\Windows\\Temp\")"
   ]
  },
  {
   "cell_type": "code",
   "execution_count": 90,
   "metadata": {},
   "outputs": [],
   "source": [
    "Year = 2022\n",
    "GP = 4\n",
    "Type = \"Q\"\n",
    "session = f1.get_session(Year,GP, Type)"
   ]
  },
  {
   "cell_type": "code",
   "execution_count": 91,
   "metadata": {},
   "outputs": [
    {
     "name": "stderr",
     "output_type": "stream",
     "text": [
      "core           INFO \tLoading data for Emilia Romagna Grand Prix - Qualifying [v2.3.0]\n",
      "api            INFO \tUsing cached data for driver_info\n",
      "api            INFO \tUsing cached data for timing_data\n",
      "api            INFO \tUsing cached data for timing_app_data\n",
      "core           INFO \tProcessing timing data...\n",
      "api            INFO \tUsing cached data for session_status_data\n",
      "api            INFO \tUsing cached data for track_status_data\n",
      "C:\\Users\\krusa\\AppData\\Roaming\\Python\\Python310\\site-packages\\fastf1\\core.py:1411: FutureWarning: The frame.append method is deprecated and will be removed from pandas in a future version. Use pandas.concat instead.\n",
      "  result = result.append(new_last).reset_index(drop=True)\n",
      "C:\\Users\\krusa\\AppData\\Roaming\\Python\\Python310\\site-packages\\fastf1\\core.py:1411: FutureWarning: The frame.append method is deprecated and will be removed from pandas in a future version. Use pandas.concat instead.\n",
      "  result = result.append(new_last).reset_index(drop=True)\n",
      "C:\\Users\\krusa\\AppData\\Roaming\\Python\\Python310\\site-packages\\fastf1\\core.py:1411: FutureWarning: The frame.append method is deprecated and will be removed from pandas in a future version. Use pandas.concat instead.\n",
      "  result = result.append(new_last).reset_index(drop=True)\n",
      "C:\\Users\\krusa\\AppData\\Roaming\\Python\\Python310\\site-packages\\fastf1\\core.py:1411: FutureWarning: The frame.append method is deprecated and will be removed from pandas in a future version. Use pandas.concat instead.\n",
      "  result = result.append(new_last).reset_index(drop=True)\n",
      "C:\\Users\\krusa\\AppData\\Roaming\\Python\\Python310\\site-packages\\fastf1\\core.py:1411: FutureWarning: The frame.append method is deprecated and will be removed from pandas in a future version. Use pandas.concat instead.\n",
      "  result = result.append(new_last).reset_index(drop=True)\n",
      "C:\\Users\\krusa\\AppData\\Roaming\\Python\\Python310\\site-packages\\fastf1\\core.py:1411: FutureWarning: The frame.append method is deprecated and will be removed from pandas in a future version. Use pandas.concat instead.\n",
      "  result = result.append(new_last).reset_index(drop=True)\n",
      "api            INFO \tUsing cached data for car_data\n",
      "api            INFO \tUsing cached data for position_data\n",
      "api            INFO \tUsing cached data for weather_data\n",
      "api            INFO \tUsing cached data for race_control_messages\n",
      "core           INFO \tFinished loading data for 20 drivers: ['1', '16', '4', '20', '14', '3', '11', '77', '5', '55', '63', '47', '44', '24', '18', '22', '10', '6', '31', '23']\n"
     ]
    }
   ],
   "source": [
    "session.load()"
   ]
  },
  {
   "cell_type": "code",
   "execution_count": 92,
   "metadata": {},
   "outputs": [
    {
     "name": "stderr",
     "output_type": "stream",
     "text": [
      "C:\\Users\\krusa\\AppData\\Roaming\\Python\\Python310\\site-packages\\fastf1\\core.py:2328: FutureWarning: The default dtype for empty Series will be 'object' instead of 'float64' in a future version. Specify a dtype explicitly to silence this warning.\n",
      "  super().__init__(*args, **kwargs)\n"
     ]
    }
   ],
   "source": [
    "drivers = pd.unique(session.laps[\"Driver\"])\n",
    "fastest_laps = [session.laps.pick_driver(drv).pick_fastest() for drv in drivers]\n",
    "fastest_laps = Laps(fastest_laps).sort_values(by = \"LapTime\").reset_index(drop = True)\n",
    "fastest_laps = fastest_laps[fastest_laps['Driver'].notna()]"
   ]
  },
  {
   "cell_type": "code",
   "execution_count": 93,
   "metadata": {},
   "outputs": [
    {
     "name": "stdout",
     "output_type": "stream",
     "text": [
      "   Driver                LapTime           LapTimeDelta\n",
      "0     SAI 0 days 00:01:18.990000        0 days 00:00:00\n",
      "1     TSU 0 days 00:01:20.474000 0 days 00:00:01.484000\n",
      "2     GAS 0 days 00:01:20.732000 0 days 00:00:01.742000\n",
      "3     RUS 0 days 00:01:20.757000 0 days 00:00:01.767000\n",
      "4     MSC 0 days 00:01:20.916000 0 days 00:00:01.926000\n",
      "5     HAM 0 days 00:01:21.138000 0 days 00:00:02.148000\n",
      "6     ZHO 0 days 00:01:21.434000 0 days 00:00:02.444000\n",
      "7     LAT 0 days 00:01:21.971000 0 days 00:00:02.981000\n",
      "8     OCO 0 days 00:01:22.338000 0 days 00:00:03.348000\n",
      "9     VER 0 days 00:01:27.999000 0 days 00:00:09.009000\n",
      "10    STR 0 days 00:01:28.119000 0 days 00:00:09.129000\n",
      "11    LEC 0 days 00:01:28.778000 0 days 00:00:09.788000\n",
      "12    NOR 0 days 00:01:29.131000 0 days 00:00:10.141000\n",
      "13    MAG 0 days 00:01:29.164000 0 days 00:00:10.174000\n",
      "14    ALO 0 days 00:01:29.202000 0 days 00:00:10.212000\n",
      "15    RIC 0 days 00:01:29.742000 0 days 00:00:10.752000\n",
      "16    PER 0 days 00:01:29.808000 0 days 00:00:10.818000\n",
      "17    BOT 0 days 00:01:30.439000 0 days 00:00:11.449000\n",
      "18    VET 0 days 00:01:31.062000 0 days 00:00:12.072000\n"
     ]
    }
   ],
   "source": [
    "pole = fastest_laps.pick_fastest()\n",
    "fastest_laps['LapTimeDelta'] = fastest_laps['LapTime'] - pole['LapTime']\n",
    "print(fastest_laps[['Driver','LapTime','LapTimeDelta']])"
   ]
  },
  {
   "cell_type": "code",
   "execution_count": 100,
   "metadata": {},
   "outputs": [
    {
     "name": "stderr",
     "output_type": "stream",
     "text": [
      "C:\\Users\\krusa\\AppData\\Local\\Temp\\ipykernel_12472\\231503082.py:15: UserWarning: FixedFormatter should only be used together with FixedLocator\n",
      "  ax.set_xticklabels(a)\n"
     ]
    },
    {
     "data": {
      "image/png": "[encoded data removed]",
      "text/plain": [
       "<Figure size 432x288 with 1 Axes>"
      ]
     },
     "metadata": {
      "needs_background": "light"
     },
     "output_type": "display_data"
    }
   ],
   "source": [
    "team_colors = list()\n",
    "for index, lap in fastest_laps.iterlaps():\n",
    "    color = fastf1.plotting.team_color(lap['Team'])\n",
    "    team_colors.append(color)\n",
    "\n",
    "fig, ax = plt.subplots()\n",
    "ax.barh(fastest_laps.index, fastest_laps['LapTimeDelta'],color= team_colors, edgecolor = 'grey')\n",
    "ax.set_yticks(fastest_laps.index)\n",
    "ax.set_yticklabels(fastest_laps['Driver'])\n",
    "ax.invert_yaxis()\n",
    "ax.set_axisbelow(True)\n",
    "plt.xlabel(\"Gap to pole [Seconds]\")\n",
    "ax.xaxis.grid(True, which='major', linestyle='--', color='black', zorder=-1000)\n",
    "a = np.array(ax.get_xticks().tolist())/1000000000\n",
    "ax.set_xticklabels(a)\n",
    "lap_time_string = strftimedelta(pole['LapTime'], '%m:%s.%ms')\n",
    "plt.suptitle(f\"{session.event['EventName']} {session.event.year} Qualifying\\n\" \n",
    "             f\"Fastest lap: {lap_time_string} ({pole['Driver']})\");\n",
    "\n",
    "newpath = f'{session.event.year}/{session.event[\"EventName\"]}/Qualifying' \n",
    "if not os.path.exists(newpath):\n",
    "    os.makedirs(newpath)\n",
    "\n",
    "plt.savefig(f'{session.event.year}/{session.event[\"EventName\"]}/Qualifying/Results.jpeg')"
   ]
  },
  {
   "cell_type": "code",
   "execution_count": 99,
   "metadata": {},
   "outputs": [],
   "source": []
  }
 ],
 "metadata": {
  "kernelspec": {
   "display_name": "Python 3",
   "language": "python",
   "name": "python3"
  },
  "language_info": {
   "codemirror_mode": {
    "name": "ipython",
    "version": 3
   },
   "file_extension": ".py",
   "mimetype": "text/x-python",
   "name": "python",
   "nbconvert_exporter": "python",
   "pygments_lexer": "ipython3",
   "version": "3.10.5"
  },
  "orig_nbformat": 4
 },
 "nbformat": 4,
 "nbformat_minor": 2
}
